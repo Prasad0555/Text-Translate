{
 "cells": [
  {
   "cell_type": "code",
   "execution_count": 10,
   "id": "b67a41ba",
   "metadata": {},
   "outputs": [
    {
     "name": "stdout",
     "output_type": "stream",
     "text": [
      "Input (English): I had about a 30 minute demo just using this new headset\n",
      "Output (Hinglish): मझु ेसिर्फ ३०  minute का  demo मिला था इस नये headset का इस्तमेाल करने के लिए     \n",
      "Output file saved to: output.txt\n"
     ]
    },
    {
     "name": "stderr",
     "output_type": "stream",
     "text": [
      "[nltk_data] Downloading package punkt to\n",
      "[nltk_data]     C:\\Users\\MyLappy\\AppData\\Roaming\\nltk_data...\n",
      "[nltk_data]   Package punkt is already up-to-date!\n"
     ]
    }
   ],
   "source": [
    "import nltk\n",
    "\n",
    "# Install the punkt tokenizer data if not already installed\n",
    "nltk.download('punkt')\n",
    "\n",
    "from nltk.tokenize import word_tokenize\n",
    "\n",
    "def hinglish_translation(text):\n",
    "    # Tokenize the input text into words\n",
    "    words = word_tokenize(text)\n",
    "\n",
    "    # Define translation rules (you can extend this)\n",
    "    translation_rules = {\n",
    "        'I': 'मझु',\n",
    "        'had': 'ेसिर्फ',\n",
    "        'about': '३०',\n",
    "        'a': ' minute का',\n",
    "        '30': ' demo मिला था',\n",
    "        'minute': 'इस नये headset का इस्तमेाल करने के',\n",
    "        'demo': 'लिए',\n",
    "        'just': '',\n",
    "        'using': '',\n",
    "        'this': '',\n",
    "        'new': '',\n",
    "        'headset': ''\n",
    "    }\n",
    "\n",
    "    # Translate words based on rules\n",
    "    translated_text = ' '.join(translation_rules.get(word, word) for word in words)\n",
    "\n",
    "    return translated_text\n",
    "\n",
    "# Example usage\n",
    "english_text = \"I had about a 30 minute demo just using this new headset\"\n",
    "hinglish_text = hinglish_translation(english_text)\n",
    "\n",
    "# Specify the output file path\n",
    "output_file_path = \"output.txt\"\n",
    "\n",
    "# Write the translated text to the output file\n",
    "with open(output_file_path, \"w\", encoding=\"utf-8\") as output_file:\n",
    "    output_file.write(hinglish_text)\n",
    "\n",
    "print(\"Input (English):\", english_text)\n",
    "print(\"Output (Hinglish):\", hinglish_text)\n",
    "print(\"Output file saved to:\", output_file_path)\n"
   ]
  },
  {
   "cell_type": "code",
   "execution_count": null,
   "id": "b99c77c3",
   "metadata": {},
   "outputs": [],
   "source": []
  }
 ],
 "metadata": {
  "kernelspec": {
   "display_name": "Python 3 (ipykernel)",
   "language": "python",
   "name": "python3"
  },
  "language_info": {
   "codemirror_mode": {
    "name": "ipython",
    "version": 3
   },
   "file_extension": ".py",
   "mimetype": "text/x-python",
   "name": "python",
   "nbconvert_exporter": "python",
   "pygments_lexer": "ipython3",
   "version": "3.9.7"
  }
 },
 "nbformat": 4,
 "nbformat_minor": 5
}
